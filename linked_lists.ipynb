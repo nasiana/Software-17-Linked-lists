{
 "cells": [
  {
   "cell_type": "markdown",
   "metadata": {},
   "source": [
    "## AGENDA\n",
    "\n",
    "1. Introduction to Linked lists\n",
    "2. Types of Linked lists\n",
    "3. Linked list implementation\n",
    "4. Practice and Exercises"
   ]
  },
  {
   "cell_type": "markdown",
   "metadata": {},
   "source": [
    "## Why do we need Linked lists?"
   ]
  },
  {
   "cell_type": "markdown",
   "metadata": {},
   "source": [
    "Let's look at a simple list:\n",
    "\n",
    "```our_simple_list = [290, 401, 156, 374, 239]```\n",
    "\n",
    "let's assume now that we want to insert a new element ```14``` at location 1. What Python does in a simple list when running that command, is to move all elements until the end of the list. \n",
    "\n",
    "```our_simple_list.insert(1, 14)```\n",
    "\n",
    "<div>\n",
    "<img src=\"insert_list_element.svg\" width=\"500\"/>\n",
    "</div>\n"
   ]
  },
  {
   "cell_type": "markdown",
   "metadata": {},
   "source": [
    "Array insertion space complexity = O(n)\n",
    "\n",
    "What does this mean if we have 1 million elements? "
   ]
  },
  {
   "cell_type": "markdown",
   "metadata": {},
   "source": [
    "```Linked lists``` makes the insertion and deletion of elements cheaper because the values are stored in different areas of memory (lists store the values in contiguous memory location). \n",
    "\n",
    "The values of a linked lists are stored at random memory location, but are linked with each other by **pointers**."
   ]
  },
  {
   "cell_type": "markdown",
   "metadata": {},
   "source": [
    "# Linked List\n",
    "\n",
    "## Singly Linked Lists\n",
    "\n",
    "<div>\n",
    "<img src=\"slingly_linked_list.jpeg\" width=\"500\"/>\n",
    "</div>\n",
    "\n",
    "<br>\n",
    "\n",
    "## Doubly Linked Lists\n",
    "\n",
    "<div>\n",
    "<img src=\"double_linked_list.jpeg\" width=\"500\"/>\n",
    "</div>"
   ]
  },
  {
   "cell_type": "markdown",
   "metadata": {},
   "source": [
    "## Space complexity\n",
    "\n",
    "| Operation                           | List | Linked List |\n",
    "| :-                                  | -:   | :-:         |\n",
    "| Indexing                            | O(1) | O(n)        |\n",
    "| Insert/Delete Element at Start      | O(n) | O(1)        |\n",
    "| Insert/Delete Element at End        | O(1) | O(1)        |\n",
    "| Insert/Delete Element at Middle     | O(n) | O(n)        |"
   ]
  },
  {
   "cell_type": "markdown",
   "metadata": {},
   "source": [
    "## Linked Lists Disadvantages\n",
    "\n",
    "1. Random access is not allowed. You have to access elements sequentially starting from the first node. \n",
    "2. Extra memory space for a pointer is required with each element of the list.\n",
    "3. Not cache friendly."
   ]
  },
  {
   "cell_type": "markdown",
   "metadata": {},
   "source": [
    "## Linked Lists vs Arrays\n",
    "\n",
    "**Linked lists are preferable over arrays when:**\n",
    "\n",
    "- you need constant-time insertions/deletions from the list (such as in real-time computing where time predictability is absolutely critical)\n",
    "- you don't know how many items will be in the list.\n",
    "- you don't need random access to any elements\n",
    "\n",
    "**Arrays are preferable when:**\n",
    "\n",
    "- you need indexed/random access to elements\n",
    "- you know the number of elements in the array ahead of time so that you can allocate the correct amount of memory for the array\n",
    "- you need speed when iterating through all the elements in sequence.\n",
    "- memory is a concern. Filled arrays take up less memory than linked lists. Each element in the array is just the data. Each linked list node requires the data as well as one (or more) pointers to the other elements in the linked list."
   ]
  },
  {
   "cell_type": "markdown",
   "metadata": {},
   "source": [
    "# Linked List Implementation"
   ]
  },
  {
   "cell_type": "code",
   "execution_count": 24,
   "metadata": {},
   "outputs": [
    {
     "name": "stdout",
     "output_type": "stream",
     "text": [
      "3 --> 7 --> 10 --> 77 --> None\n"
     ]
    }
   ],
   "source": [
    "''' APPROACH 1 '''\n",
    "class Node:\n",
    "    def __init__(self, value, nextNode = None):\n",
    "        self.value = value  # anything that you want to store (e.g., strings, integers, objects, etc)\n",
    "        self.nextNode = nextNode #pointer to the next element in the linked list\n",
    "\n",
    "# '3' -> '7' -> '10'\n",
    "\n",
    "node_1 = Node('3')  # isolated node '3'\n",
    "node_2 = Node('7')  # isolated node '7'\n",
    "node_3 = Node('10') # isolated node '10'\n",
    "node_4 = Node('77') # isolated node '77'\n",
    "\n",
    "node_1.nextNode = node_2    # node_1 points to node_2, '3' -> '7' \n",
    "node_2.nextNode = node_3    # node_2 points to node_3, '7' -> '10' \n",
    "\n",
    "# node_1 -> node_2 -> node_3\n",
    "\n",
    "# Let's test it out \n",
    "currentNode = node_1    # node_1 is our head \n",
    "while True: \n",
    "    print(currentNode.value, '-->', end=' ')\n",
    "    if currentNode.nextNode is None:    # ensure that the current node is not tail\n",
    "        print('None')\n",
    "        break\n",
    "    currentNode = currentNode.nextNode  # update with the next node "
   ]
  },
  {
   "cell_type": "code",
   "execution_count": 9,
   "metadata": {},
   "outputs": [
    {
     "name": "stdout",
     "output_type": "stream",
     "text": [
      "None\n",
      "3 --> None\n",
      "3 --> 7 --> None\n",
      "3 --> 7 --> 10 --> None\n"
     ]
    }
   ],
   "source": [
    "''' APPROACH 2'''\n",
    "\n",
    "class Node:\n",
    "    def __init__(self, value, nextNode = None):\n",
    "        self.value = value  # anything that you want to store (e.g., strings, integers, objects, etc)\n",
    "        self.nextNode = nextNode #pointer to the next element in the linked list\n",
    "\n",
    "class LinkedList:   # initially empty \n",
    "    def __init__(self, head = None):\n",
    "        self.head = head \n",
    "\n",
    "    def insert(self, value):\n",
    "        node = Node(value)  # create a node with the corresponding value \n",
    "        if self.head is None:   # check if there are other nodes \n",
    "            self.head = node    # if there are no other nodes, our current node is the head\n",
    "            return \n",
    "\n",
    "        # look at the head node and try to find the tail by traversing\n",
    "        #   the entire linked list \n",
    "        currentNode = self.head\n",
    "        while True:\n",
    "            # satisfied only if the current node is tail\n",
    "            if currentNode.nextNode is None:    # if there is no node after the current node\n",
    "                currentNode.nextNode = node     \n",
    "                break\n",
    "            currentNode = currentNode.nextNode      # otherwise, set the next to current node\n",
    "\n",
    "    # method to print the linked list \n",
    "    def print_linked_list(self):\n",
    "        currentNode = self.head\n",
    "        while currentNode is not None:\n",
    "            print(currentNode.value, '-->', end=' ')\n",
    "            currentNode = currentNode.nextNode\n",
    "        print('None')\n",
    "\n",
    "ll = LinkedList()\n",
    "ll.print_linked_list()\n",
    "ll.insert('3')\n",
    "ll.print_linked_list()\n",
    "ll.insert('7')\n",
    "ll.print_linked_list()\n",
    "ll.insert('10')\n",
    "ll.print_linked_list()"
   ]
  },
  {
   "cell_type": "markdown",
   "metadata": {},
   "source": [
    "## Linked Lists and Python \n",
    "\n",
    "Python does not have a linked list library built into it like some other programming languages so we need to create our own classes like above. However, there are some packages that can create data structures that behave as linked lists (but are not linked lists!), such as ```deque()```."
   ]
  }
 ],
 "metadata": {
  "interpreter": {
   "hash": "40d3a090f54c6569ab1632332b64b2c03c39dcf918b08424e98f38b5ae0af88f"
  },
  "kernelspec": {
   "display_name": "Python 3.8.8 64-bit ('base': conda)",
   "name": "python3"
  },
  "language_info": {
   "codemirror_mode": {
    "name": "ipython",
    "version": 3
   },
   "file_extension": ".py",
   "mimetype": "text/x-python",
   "name": "python",
   "nbconvert_exporter": "python",
   "pygments_lexer": "ipython3",
   "version": "3.8.8"
  },
  "orig_nbformat": 4
 },
 "nbformat": 4,
 "nbformat_minor": 2
}
